{
 "cells": [
  {
   "cell_type": "markdown",
   "metadata": {},
   "source": [
    "# LISTS\n",
    "\n",
    "### STARTING WITH LISTS\n",
    "1. Create a list\n",
    "2. Access the last value of a list\n",
    "3. Add an element at the end\n",
    "4. Insert an element in a position shifting every other value"
   ]
  },
  {
   "cell_type": "code",
   "execution_count": 46,
   "metadata": {},
   "outputs": [
    {
     "name": "stdout",
     "output_type": "stream",
     "text": [
      "Specialized\n"
     ]
    }
   ],
   "source": [
    "bikes = ['trek', 'cannondale', 'redline', 'specialized']\n",
    "print(bikes[-1].title()) \n",
    "bikes.append('ducati')\n",
    "bikes.insert(2, \"honda\")"
   ]
  },
  {
   "cell_type": "markdown",
   "metadata": {},
   "source": [
    "How do you make a 2-dimensional (2D) list? That’s a list in a list like this: "
   ]
  },
  {
   "cell_type": "code",
   "execution_count": null,
   "metadata": {},
   "outputs": [],
   "source": [
    "list = [[1,2,3],[4,5,6]]"
   ]
  },
  {
   "cell_type": "markdown",
   "metadata": {},
   "source": [
    "\n",
    "#### Remove elements from lists\n",
    "* Delete an element from a \"x\" position\n",
    "* `Pop()` method: removes the last item in a list by default, saving it in a variable to use it after. <br>\n",
    ">>> *p.e: pop(3) will remove the 4th element of a list*\n",
    "* Another way is with the `remove()` method"
   ]
  },
  {
   "cell_type": "code",
   "execution_count": 47,
   "metadata": {},
   "outputs": [],
   "source": [
    "del bikes[0]\n",
    "popped_element = bikes.pop()\n",
    "old_bike = 'redline'\n",
    "bikes.remove(old_bike)"
   ]
  },
  {
   "cell_type": "markdown",
   "metadata": {},
   "source": [
    "---\n",
    "### SORTING METHODS\n",
    "* `sort()` method orders the list alphabetically\n",
    "* `sorted()` displays the list ordered alphabetically but doesnt sort the list itself.\n",
    "* `reverse()` method doesn’t sort backward alphabetically; it simply reverses the order of the list.\n",
    "* `set()` is used to rebuild a list deleting the duplicate items of a list.\n",
    "\n",
    "Examine the same number of entries in the list is the same as talking about number of comparisons."
   ]
  },
  {
   "cell_type": "code",
   "execution_count": 48,
   "metadata": {},
   "outputs": [
    {
     "data": {
      "text/plain": [
       "{'cannondale', 'honda', 'specialized'}"
      ]
     },
     "execution_count": 48,
     "metadata": {},
     "output_type": "execute_result"
    }
   ],
   "source": [
    "sorted_bikes = sorted(bikes)\n",
    "bikes.sort()\n",
    "bikes.reverse()\n",
    "set(bikes)"
   ]
  },
  {
   "cell_type": "markdown",
   "metadata": {},
   "source": [
    "---\n",
    "### WORKING WITH LISTS \n",
    "To travel along a list we could:\n",
    "1. Get the length `(len)` of a list a iterate\n",
    "2. Tell python to retrieve each value from the list and store in a variable."
   ]
  },
  {
   "cell_type": "code",
   "execution_count": 49,
   "metadata": {},
   "outputs": [
    {
     "name": "stdout",
     "output_type": "stream",
     "text": [
      "My 1 bicycle was a Specialized\n",
      "My 2 bicycle was a Honda\n",
      "My 3 bicycle was a Cannondale\n",
      "specialized\n",
      "honda\n",
      "cannondale\n"
     ]
    }
   ],
   "source": [
    "for i in range(len(bikes)):\n",
    "    print(f\"My {i + 1} bicycle was a {bikes[i].title()}\")\n",
    "for bike in bikes:\n",
    "    print(bike)"
   ]
  },
  {
   "cell_type": "markdown",
   "metadata": {},
   "source": [
    "In range, the first number is the beginning, seconf number is the final (+1) and third number is for skipping values."
   ]
  },
  {
   "cell_type": "code",
   "execution_count": 50,
   "metadata": {},
   "outputs": [],
   "source": [
    "for i in range(2,11,2):\n",
    "    even = [i]"
   ]
  },
  {
   "cell_type": "markdown",
   "metadata": {},
   "source": [
    "#### Slice lists\n",
    "If don't wanna use the entire lists, these could be sliced:\n",
    "  * From the beginning until a number\n",
    "  * From a number till the end\n",
    "  * From last number till the beginning backwards"
   ]
  },
  {
   "cell_type": "code",
   "execution_count": 51,
   "metadata": {},
   "outputs": [
    {
     "data": {
      "text/plain": [
       "['cannondale']"
      ]
     },
     "execution_count": 51,
     "metadata": {},
     "output_type": "execute_result"
    }
   ],
   "source": [
    "bikes[:2]\n",
    "bikes[2:]\n",
    "bikes[-1:]"
   ]
  },
  {
   "cell_type": "markdown",
   "metadata": {},
   "source": [
    "#### Copying lists\n",
    "There are 2 different ways to copy lists.\n",
    "1. We create a copy in another INDEPENDET variable using slices.\n",
    "2. We create a DEPENDENT copy and if we make a change in one list, in the other we'll see those changes."
   ]
  },
  {
   "cell_type": "code",
   "execution_count": 52,
   "metadata": {},
   "outputs": [],
   "source": [
    "cycles = bikes[:]\n",
    "bicycles = bikes"
   ]
  },
  {
   "cell_type": "markdown",
   "metadata": {},
   "source": [
    "#### Add values to a list\n",
    "There are two ways to add values to a list in a loop:"
   ]
  },
  {
   "cell_type": "code",
   "execution_count": 53,
   "metadata": {},
   "outputs": [],
   "source": [
    "\"\"\"1\"\"\"\n",
    "list = []\n",
    "for num in range(0, 11):\n",
    "    list.append(num)\n",
    "\n",
    "\"\"\"2\"\"\"\n",
    "list = [num**2 for num in range(0, 11)]"
   ]
  }
 ],
 "metadata": {
  "interpreter": {
   "hash": "aee8b7b246df8f9039afb4144a1f6fd8d2ca17a180786b69acc140d282b71a49"
  },
  "kernelspec": {
   "display_name": "Python 3.10.2 64-bit",
   "language": "python",
   "name": "python3"
  },
  "language_info": {
   "codemirror_mode": {
    "name": "ipython",
    "version": 3
   },
   "file_extension": ".py",
   "mimetype": "text/x-python",
   "name": "python",
   "nbconvert_exporter": "python",
   "pygments_lexer": "ipython3",
   "version": "3.10.2"
  },
  "orig_nbformat": 4
 },
 "nbformat": 4,
 "nbformat_minor": 2
}
